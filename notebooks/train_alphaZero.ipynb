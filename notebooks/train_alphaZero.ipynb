{
 "cells": [
  {
   "cell_type": "code",
   "execution_count": 1,
   "metadata": {},
   "outputs": [],
   "source": [
    "%load_ext autoreload\n",
    "%autoreload 2\n",
    "\n",
    "import torch\n",
    "from alpha_connect import AlphaZeroModelConnect4, Trainer\n",
    "import os"
   ]
  },
  {
   "cell_type": "code",
   "execution_count": 2,
   "metadata": {},
   "outputs": [
    {
     "name": "stdout",
     "output_type": "stream",
     "text": [
      "1/500\n"
     ]
    },
    {
     "name": "stderr",
     "output_type": "stream",
     "text": [
      "1927it [12:18,  2.61it/s]                        \n"
     ]
    },
    {
     "name": "stdout",
     "output_type": "stream",
     "text": [
      "\n",
      "loss: 3.094891739388307\n",
      "Policy Loss 0.7022940988341967\n",
      "Value Loss 0.9880094428857168\n",
      "Examples:\n",
      "tensor([ 0.2415,  0.0420, -0.0392,  0.0929,  0.1499,  0.1279,  0.0940])\n",
      "tensor([1., 0., 0., 0., 0., 0., 0.])\n",
      "tensor([-0.1834])\n",
      "tensor(1.)\n",
      "New best loss: 3.094891739388307\n",
      "2/500\n"
     ]
    },
    {
     "name": "stderr",
     "output_type": "stream",
     "text": [
      "2174it [09:27,  3.83it/s]                        \n"
     ]
    },
    {
     "name": "stdout",
     "output_type": "stream",
     "text": [
      "\n",
      "loss: 1.5834034872055054\n",
      "Policy Loss 0.21654011011123658\n",
      "Value Loss 0.9337831568717957\n",
      "Examples:\n",
      "tensor([ 0.1090,  0.1376, -0.0089,  0.1053,  0.2609,  0.1325,  0.2310])\n",
      "tensor([0.0553, 0.1106, 0.0000, 0.2060, 0.2111, 0.1307, 0.2864])\n",
      "tensor([-0.0425])\n",
      "tensor(-1.)\n",
      "New best loss: 1.5834034872055054\n",
      "3/500\n"
     ]
    },
    {
     "name": "stderr",
     "output_type": "stream",
     "text": [
      "2737it [08:16,  5.51it/s]                       \n"
     ]
    },
    {
     "name": "stdout",
     "output_type": "stream",
     "text": [
      "\n",
      "loss: 1.5861182317137716\n",
      "Policy Loss 0.22857849448919296\n",
      "Value Loss 0.9003827482461929\n",
      "Examples:\n",
      "tensor([0.0810, 0.0590, 0.0769, 0.1681, 0.2642, 0.1468, 0.1592])\n",
      "tensor([0.1156, 0.0603, 0.0000, 0.0905, 0.4874, 0.1357, 0.1106])\n",
      "tensor([-0.0286])\n",
      "tensor(1.)\n",
      "4/500\n"
     ]
    },
    {
     "name": "stderr",
     "output_type": "stream",
     "text": [
      "2859it [08:06,  5.88it/s]                        \n"
     ]
    },
    {
     "name": "stdout",
     "output_type": "stream",
     "text": [
      "\n",
      "loss: 1.4756933646766761\n",
      "Policy Loss 0.2270236948603078\n",
      "Value Loss 0.7946222800957529\n",
      "Examples:\n",
      "tensor([-0.0134,  0.1048,  0.0202,  0.2275,  0.1865,  0.2108,  0.0926])\n",
      "tensor([0.0000, 0.3920, 0.0000, 0.0804, 0.1005, 0.3518, 0.0754])\n",
      "tensor([0.4719])\n",
      "tensor(-1.)\n",
      "New best loss: 1.4756933646766761\n",
      "5/500\n"
     ]
    },
    {
     "name": "stderr",
     "output_type": "stream",
     "text": [
      "2732it [08:41,  5.23it/s]                        \n"
     ]
    },
    {
     "name": "stdout",
     "output_type": "stream",
     "text": [
      "\n",
      "loss: 1.6024274609982967\n",
      "Policy Loss 0.264419163018465\n",
      "Value Loss 0.8091699719429016\n",
      "Examples:\n",
      "tensor([ 0.1733,  0.2760, -0.0179,  0.0609,  0.0952,  0.2207,  0.2014])\n",
      "tensor([0.1508, 0.7437, 0.0000, 0.0000, 0.0000, 0.0302, 0.0754])\n",
      "tensor([0.3102])\n",
      "tensor(1.)\n",
      "6/500\n"
     ]
    },
    {
     "name": "stderr",
     "output_type": "stream",
     "text": [
      "2494it [09:09,  4.54it/s]                        \n"
     ]
    },
    {
     "name": "stdout",
     "output_type": "stream",
     "text": [
      "\n",
      "loss: 1.739487805149772\n",
      "Policy Loss 0.31843766841021454\n",
      "Value Loss 0.7841747999191284\n",
      "Examples:\n",
      "tensor([0.1802, 0.1620, 0.0278, 0.2003, 0.2574, 0.0481, 0.0735])\n",
      "tensor([0.0000, 0.0151, 0.0000, 0.0000, 0.0302, 0.9447, 0.0101])\n",
      "tensor([0.2124])\n",
      "tensor(1.)\n",
      "7/500\n"
     ]
    },
    {
     "name": "stderr",
     "output_type": "stream",
     "text": [
      "2255it [09:43,  3.87it/s]                        \n"
     ]
    },
    {
     "name": "stdout",
     "output_type": "stream",
     "text": [
      "\n",
      "loss: 1.7516394704580307\n",
      "Policy Loss 0.3043922384579976\n",
      "Value Loss 0.8384627550840378\n",
      "Examples:\n",
      "tensor([ 0.0752,  0.0647,  0.0518,  0.2611,  0.1697, -0.0735,  0.2254])\n",
      "tensor([0.1156, 0.3719, 0.1055, 0.0854, 0.1055, 0.0000, 0.2161])\n",
      "tensor([0.1705])\n",
      "tensor(-1.)\n",
      "8/500\n"
     ]
    },
    {
     "name": "stderr",
     "output_type": "stream",
     "text": [
      "2499it [09:01,  4.62it/s]                        \n"
     ]
    },
    {
     "name": "stdout",
     "output_type": "stream",
     "text": [
      "\n",
      "loss: 1.4762395295229824\n",
      "Policy Loss 0.20347238399765707\n",
      "Value Loss 0.8658223775300112\n",
      "Examples:\n",
      "tensor([ 0.0489,  0.2388, -0.0102,  0.2401,  0.3876, -0.0411,  0.1780])\n",
      "tensor([0.0452, 0.0603, 0.0251, 0.0503, 0.7789, 0.0000, 0.0402])\n",
      "tensor([-0.2502])\n",
      "tensor(1.)\n",
      "9/500\n"
     ]
    },
    {
     "name": "stderr",
     "output_type": "stream",
     "text": [
      "2551it [09:19,  4.56it/s]                        \n"
     ]
    },
    {
     "name": "stdout",
     "output_type": "stream",
     "text": [
      "\n",
      "loss: 1.483545647426085\n",
      "Policy Loss 0.22474268078804016\n",
      "Value Loss 0.8093176050619646\n",
      "Examples:\n",
      "tensor([ 0.0514, -0.0035,  0.2149, -0.0957, -0.0095,  0.3012,  0.3146])\n",
      "tensor([0.0000, 0.0000, 0.1005, 0.0000, 0.0000, 0.4724, 0.4271])\n",
      "tensor([-0.7080])\n",
      "tensor(-1.)\n",
      "10/500\n"
     ]
    },
    {
     "name": "stderr",
     "output_type": "stream",
     "text": [
      "2392it [09:32,  4.18it/s]                        \n"
     ]
    },
    {
     "name": "stdout",
     "output_type": "stream",
     "text": [
      "\n",
      "loss: 1.5850903139166208\n",
      "Policy Loss 0.25965893722098804\n",
      "Value Loss 0.8061135022536569\n",
      "Examples:\n",
      "tensor([0.1131, 0.2378, 0.1216, 0.2894, 0.1937, 0.1577, 0.2034])\n",
      "tensor([0.0101, 0.0201, 0.0050, 0.0503, 0.8894, 0.0050, 0.0201])\n",
      "tensor([0.4844])\n",
      "tensor(0.)\n",
      "11/500\n"
     ]
    },
    {
     "name": "stderr",
     "output_type": "stream",
     "text": [
      "2374it [09:41,  4.09it/s]                        \n"
     ]
    },
    {
     "name": "stdout",
     "output_type": "stream",
     "text": [
      "\n",
      "loss: 1.4492242090080096\n",
      "Policy Loss 0.22260201625202014\n",
      "Value Loss 0.7814181602519491\n",
      "Examples:\n",
      "tensor([ 0.0816,  0.4765,  0.2420,  0.0733,  0.1658, -0.0090, -0.0127])\n",
      "tensor([0.0151, 0.7588, 0.0704, 0.0251, 0.1106, 0.0101, 0.0101])\n",
      "tensor([-0.0720])\n",
      "tensor(-1.)\n",
      "New best loss: 1.4492242090080096\n",
      "12/500\n"
     ]
    },
    {
     "name": "stderr",
     "output_type": "stream",
     "text": [
      "2573it [09:05,  4.72it/s]                        \n"
     ]
    },
    {
     "name": "stdout",
     "output_type": "stream",
     "text": [
      "\n",
      "loss: 1.3767450288647698\n",
      "Policy Loss 0.18092003819488345\n",
      "Value Loss 0.8339849142801194\n",
      "Examples:\n",
      "tensor([0.0143, 0.1927, 0.1406, 0.6188, 0.0473, 0.0102, 0.0479])\n",
      "tensor([0.0050, 0.0603, 0.1809, 0.6633, 0.0452, 0.0201, 0.0251])\n",
      "tensor([0.1777])\n",
      "tensor(1.)\n",
      "New best loss: 1.3767450288647698\n",
      "13/500\n"
     ]
    },
    {
     "name": "stderr",
     "output_type": "stream",
     "text": [
      "2811it [08:29,  5.52it/s]                        \n"
     ]
    },
    {
     "name": "stdout",
     "output_type": "stream",
     "text": [
      "\n",
      "loss: 1.3604569673538207\n",
      "Policy Loss 0.18848148882389068\n",
      "Value Loss 0.7950125008821487\n",
      "Examples:\n",
      "tensor([ 0.1098,  0.3747,  0.2212,  0.0721,  0.1273,  0.2703, -0.0402])\n",
      "tensor([0.0151, 0.9246, 0.0201, 0.0151, 0.0101, 0.0151, 0.0000])\n",
      "tensor([0.4491])\n",
      "tensor(1.)\n",
      "New best loss: 1.3604569673538207\n",
      "14/500\n"
     ]
    },
    {
     "name": "stderr",
     "output_type": "stream",
     "text": [
      "2180it [09:59,  3.63it/s]                        \n"
     ]
    },
    {
     "name": "stdout",
     "output_type": "stream",
     "text": [
      "\n",
      "loss: 1.538764232148727\n",
      "Policy Loss 0.2421162190536658\n",
      "Value Loss 0.8124155749877294\n",
      "Examples:\n",
      "tensor([-0.0181,  0.2494,  0.2528,  0.0146,  0.3101,  0.1522,  0.0653])\n",
      "tensor([0.0101, 0.1106, 0.0704, 0.0000, 0.7136, 0.0302, 0.0653])\n",
      "tensor([0.2374])\n",
      "tensor(-1.)\n",
      "15/500\n"
     ]
    },
    {
     "name": "stderr",
     "output_type": "stream",
     "text": [
      "2500it [09:13,  4.51it/s]                        \n"
     ]
    },
    {
     "name": "stdout",
     "output_type": "stream",
     "text": [
      "\n",
      "loss: 1.2819122929464686\n",
      "Policy Loss 0.16252659532156857\n",
      "Value Loss 0.7943325069817629\n",
      "Examples:\n",
      "tensor([0.0556, 0.2610, 0.0855, 0.3276, 0.1191, 0.1066, 0.1130])\n",
      "tensor([0.1709, 0.2563, 0.0000, 0.2362, 0.1005, 0.1005, 0.1357])\n",
      "tensor([0.3639])\n",
      "tensor(-1.)\n",
      "New best loss: 1.2819122929464686\n",
      "16/500\n"
     ]
    },
    {
     "name": "stderr",
     "output_type": "stream",
     "text": [
      "2584it [09:11,  4.68it/s]                        \n"
     ]
    },
    {
     "name": "stdout",
     "output_type": "stream",
     "text": [
      "\n",
      "loss: 1.494751520809673\n",
      "Policy Loss 0.2081074437924794\n",
      "Value Loss 0.870429189432235\n",
      "Examples:\n",
      "tensor([0.0638, 0.1570, 0.3460, 0.0862, 0.2186, 0.1383, 0.0357])\n",
      "tensor([0.0603, 0.2965, 0.0854, 0.0201, 0.3920, 0.1005, 0.0452])\n",
      "tensor([0.0202])\n",
      "tensor(-1.)\n",
      "17/500\n"
     ]
    },
    {
     "name": "stderr",
     "output_type": "stream",
     "text": [
      "2755it [08:52,  5.18it/s]                       \n"
     ]
    },
    {
     "name": "stdout",
     "output_type": "stream",
     "text": [
      "\n",
      "loss: 1.400640434771776\n",
      "Policy Loss 0.18663114234805106\n",
      "Value Loss 0.840747007727623\n",
      "Examples:\n",
      "tensor([-0.0392,  0.0150,  0.0406,  0.1460,  0.5254,  0.0358,  0.1360])\n",
      "tensor([0.0000, 0.0101, 0.1256, 0.1859, 0.4975, 0.0000, 0.1809])\n",
      "tensor([0.0746])\n",
      "tensor(1.)\n",
      "18/500\n"
     ]
    },
    {
     "name": "stderr",
     "output_type": "stream",
     "text": [
      "2688it [08:53,  5.04it/s]                        \n"
     ]
    },
    {
     "name": "stdout",
     "output_type": "stream",
     "text": [
      "\n",
      "loss: 1.325094657994452\n",
      "Policy Loss 0.1780911535024643\n",
      "Value Loss 0.7908211974870591\n",
      "Examples:\n",
      "tensor([0.0287, 0.3259, 0.2488, 0.0036, 0.0568, 0.3472, 0.1105])\n",
      "tensor([0.0000, 0.0251, 0.9246, 0.0000, 0.0000, 0.0302, 0.0201])\n",
      "tensor([-0.1365])\n",
      "tensor(0.)\n",
      "19/500\n"
     ]
    },
    {
     "name": "stderr",
     "output_type": "stream",
     "text": [
      "2916it [08:27,  5.75it/s]                       \n"
     ]
    },
    {
     "name": "stdout",
     "output_type": "stream",
     "text": [
      "\n",
      "loss: 1.3994774081205066\n",
      "Policy Loss 0.18774678048334623\n",
      "Value Loss 0.8362370666704679\n",
      "Examples:\n",
      "tensor([-0.0348, -0.0307, -0.0404,  0.9616, -0.0291,  0.0997,  0.0013])\n",
      "tensor([0.0050, 0.0050, 0.0000, 0.9196, 0.0000, 0.0452, 0.0251])\n",
      "tensor([0.1293])\n",
      "tensor(-1.)\n",
      "20/500\n"
     ]
    },
    {
     "name": "stderr",
     "output_type": "stream",
     "text": [
      "2906it [08:00,  6.05it/s]                        \n"
     ]
    },
    {
     "name": "stdout",
     "output_type": "stream",
     "text": [
      "\n",
      "loss: 1.3587531719137642\n",
      "Policy Loss 0.18324724453337052\n",
      "Value Loss 0.8090114383136525\n",
      "Examples:\n",
      "tensor([0.0691, 0.3411, 0.1758, 0.2297, 0.0399, 0.1177, 0.0907])\n",
      "tensor([0.1859, 0.2915, 0.1357, 0.0251, 0.0603, 0.2111, 0.0905])\n",
      "tensor([-0.1308])\n",
      "tensor(-1.)\n",
      "21/500\n"
     ]
    },
    {
     "name": "stderr",
     "output_type": "stream",
     "text": [
      "2463it [09:30,  4.32it/s]                        \n"
     ]
    },
    {
     "name": "stdout",
     "output_type": "stream",
     "text": [
      "\n",
      "loss: 1.5515423579649492\n",
      "Policy Loss 0.21994694525545294\n",
      "Value Loss 0.8917015221985903\n",
      "Examples:\n",
      "tensor([-0.0334,  0.1155,  0.0823,  0.0810,  0.4942,  0.0933, -0.0093])\n",
      "tensor([0.0000, 0.1658, 0.0201, 0.0151, 0.7688, 0.0000, 0.0302])\n",
      "tensor([0.3105])\n",
      "tensor(-1.)\n",
      "22/500\n"
     ]
    },
    {
     "name": "stderr",
     "output_type": "stream",
     "text": [
      "2301it [09:57,  3.85it/s]                        \n"
     ]
    },
    {
     "name": "stdout",
     "output_type": "stream",
     "text": [
      "\n",
      "loss: 1.3115021536747613\n",
      "Policy Loss 0.1822824403643608\n",
      "Value Loss 0.764654832581679\n",
      "Examples:\n",
      "tensor([-0.0419,  0.0780,  0.0519,  0.0721,  0.6805,  0.1909,  0.0928])\n",
      "tensor([0.0000, 0.0251, 0.0151, 0.0050, 0.9045, 0.0352, 0.0151])\n",
      "tensor([-0.3197])\n",
      "tensor(0.)\n",
      "23/500\n"
     ]
    },
    {
     "name": "stderr",
     "output_type": "stream",
     "text": [
      "2434it [09:56,  4.08it/s]                       \n"
     ]
    },
    {
     "name": "stdout",
     "output_type": "stream",
     "text": [
      "\n",
      "loss: 1.3646718913858589\n",
      "Policy Loss 0.17665522477843545\n",
      "Value Loss 0.8347062170505524\n",
      "Examples:\n",
      "tensor([-0.0209,  0.4869,  0.0516,  0.0502,  0.1807,  0.2945,  0.0329])\n",
      "tensor([0.0000, 0.5528, 0.0000, 0.0000, 0.0955, 0.2010, 0.1508])\n",
      "tensor([0.4779])\n",
      "tensor(1.)\n",
      "24/500\n"
     ]
    },
    {
     "name": "stderr",
     "output_type": "stream",
     "text": [
      "2451it [09:39,  4.23it/s]                       \n"
     ]
    },
    {
     "name": "stdout",
     "output_type": "stream",
     "text": [
      "\n",
      "loss: 1.325039615007964\n",
      "Policy Loss 0.19012083451856265\n",
      "Value Loss 0.754677111452276\n",
      "Examples:\n",
      "tensor([0.1300, 0.4575, 0.0958, 0.1253, 0.1314, 0.0492, 0.0026])\n",
      "tensor([0.0201, 0.1558, 0.0251, 0.7337, 0.0302, 0.0151, 0.0201])\n",
      "tensor([0.4081])\n",
      "tensor(1.)\n",
      "25/500\n"
     ]
    },
    {
     "name": "stderr",
     "output_type": "stream",
     "text": [
      "1978it [11:18,  2.92it/s]                        \n"
     ]
    },
    {
     "name": "stdout",
     "output_type": "stream",
     "text": [
      "\n",
      "loss: 1.2907492203208117\n",
      "Policy Loss 0.18285363396772972\n",
      "Value Loss 0.7421883184176225\n",
      "Examples:\n",
      "tensor([-0.0372,  0.3064,  0.0140,  0.1143,  0.1760,  0.3611, -0.0566])\n",
      "tensor([0.0000, 0.1508, 0.0503, 0.1156, 0.0653, 0.6181, 0.0000])\n",
      "tensor([0.3264])\n",
      "tensor(1.)\n",
      "26/500\n"
     ]
    },
    {
     "name": "stderr",
     "output_type": "stream",
     "text": [
      "1937it [11:26,  2.82it/s]                        \n"
     ]
    },
    {
     "name": "stdout",
     "output_type": "stream",
     "text": [
      "\n",
      "loss: 1.119222691999032\n",
      "Policy Loss 0.1570100113749504\n",
      "Value Loss 0.6481926578741807\n",
      "Examples:\n",
      "tensor([0.0046, 0.0996, 0.1838, 0.0977, 0.1667, 0.3873, 0.1174])\n",
      "tensor([0.0101, 0.0302, 0.1055, 0.0000, 0.0804, 0.7538, 0.0201])\n",
      "tensor([0.2456])\n",
      "tensor(1.)\n",
      "New best loss: 1.119222691999032\n",
      "27/500\n"
     ]
    },
    {
     "name": "stderr",
     "output_type": "stream",
     "text": [
      "1867it [11:18,  2.75it/s]                        \n"
     ]
    },
    {
     "name": "stdout",
     "output_type": "stream",
     "text": [
      "\n",
      "loss: 1.1708153403467603\n",
      "Policy Loss 0.16910755579118375\n",
      "Value Loss 0.6634926729732089\n",
      "Examples:\n",
      "tensor([ 0.2802,  0.2451,  0.1932, -0.0738,  0.0544,  0.2269,  0.2343])\n",
      "tensor([0.0653, 0.8744, 0.0402, 0.0000, 0.0000, 0.0201, 0.0000])\n",
      "tensor([0.5642])\n",
      "tensor(0.)\n",
      "28/500\n"
     ]
    },
    {
     "name": "stderr",
     "output_type": "stream",
     "text": [
      "2149it [10:26,  3.43it/s]                        \n"
     ]
    },
    {
     "name": "stdout",
     "output_type": "stream",
     "text": [
      "\n",
      "loss: 1.2130307728052139\n",
      "Policy Loss 0.15320396840572356\n",
      "Value Loss 0.7534188675880432\n",
      "Examples:\n",
      "tensor([ 0.1798, -0.0802, -0.0907,  0.2225,  0.3586,  0.2230,  0.0727])\n",
      "tensor([0.0452, 0.0000, 0.0000, 0.0804, 0.7739, 0.1005, 0.0000])\n",
      "tensor([-0.6204])\n",
      "tensor(-1.)\n",
      "29/500\n"
     ]
    },
    {
     "name": "stderr",
     "output_type": "stream",
     "text": [
      "1470it [12:02,  2.04it/s]                        \n"
     ]
    },
    {
     "name": "stdout",
     "output_type": "stream",
     "text": [
      "\n",
      "loss: 1.1905238822102546\n",
      "Policy Loss 0.16387186696132025\n",
      "Value Loss 0.6989082813262939\n",
      "Examples:\n",
      "tensor([-0.0172,  0.7479, -0.0265,  0.1388, -0.0381,  0.1465, -0.0551])\n",
      "tensor([0.1055, 0.5829, 0.0000, 0.1357, 0.0151, 0.1508, 0.0101])\n",
      "tensor([-0.1295])\n",
      "tensor(1.)\n",
      "30/500\n"
     ]
    },
    {
     "name": "stderr",
     "output_type": "stream",
     "text": [
      "1586it [12:13,  2.16it/s]                        \n"
     ]
    },
    {
     "name": "stdout",
     "output_type": "stream",
     "text": [
      "\n",
      "loss: 1.1728496168707978\n",
      "Policy Loss 0.16781522102397065\n",
      "Value Loss 0.669403953798886\n",
      "Examples:\n",
      "tensor([ 0.0732, -0.0310, -0.0126, -0.0161,  0.3007,  0.4848,  0.1561])\n",
      "tensor([0.0754, 0.0000, 0.0000, 0.0000, 0.3266, 0.5025, 0.0955])\n",
      "tensor([-0.7823])\n",
      "tensor(-1.)\n",
      "31/500\n"
     ]
    },
    {
     "name": "stderr",
     "output_type": "stream",
     "text": [
      "2093it [10:38,  3.28it/s]                        \n"
     ]
    },
    {
     "name": "stdout",
     "output_type": "stream",
     "text": [
      "\n",
      "loss: 1.320592240691185\n",
      "Policy Loss 0.18715127766132356\n",
      "Value Loss 0.7591384077072143\n",
      "Examples:\n",
      "tensor([ 0.2092, -0.0137,  0.0550,  0.0765,  0.8406, -0.0727, -0.0230])\n",
      "tensor([0.0754, 0.0050, 0.0050, 0.0251, 0.8844, 0.0000, 0.0050])\n",
      "tensor([-0.3322])\n",
      "tensor(-1.)\n",
      "32/500\n"
     ]
    },
    {
     "name": "stderr",
     "output_type": "stream",
     "text": [
      "2044it [10:40,  3.19it/s]                        \n"
     ]
    },
    {
     "name": "stdout",
     "output_type": "stream",
     "text": [
      "\n",
      "loss: 1.1190571057108731\n",
      "Policy Loss 0.15749534907249305\n",
      "Value Loss 0.6465710584933941\n",
      "Examples:\n",
      "tensor([0.2725, 0.0926, 0.1109, 0.2184, 0.0073, 0.1268, 0.1798])\n",
      "tensor([0.2161, 0.0804, 0.1859, 0.0653, 0.0000, 0.3920, 0.0603])\n",
      "tensor([0.9369])\n",
      "tensor(1.)\n",
      "New best loss: 1.1190571057108731\n",
      "33/500\n"
     ]
    },
    {
     "name": "stderr",
     "output_type": "stream",
     "text": [
      "1748it [11:51,  2.46it/s]                        \n"
     ]
    },
    {
     "name": "stdout",
     "output_type": "stream",
     "text": [
      "\n",
      "loss: 1.203269365642752\n",
      "Policy Loss 0.19472714513540268\n",
      "Value Loss 0.619087930236544\n",
      "Examples:\n",
      "tensor([ 0.2365,  0.0959,  0.0215,  0.4626,  0.2622, -0.0440, -0.0068])\n",
      "tensor([0.3618, 0.1508, 0.0000, 0.2211, 0.1558, 0.0503, 0.0603])\n",
      "tensor([-0.4468])\n",
      "tensor(-1.)\n",
      "34/500\n"
     ]
    },
    {
     "name": "stderr",
     "output_type": "stream",
     "text": [
      "2031it [10:48,  3.13it/s]                        \n"
     ]
    },
    {
     "name": "stdout",
     "output_type": "stream",
     "text": [
      "\n",
      "loss: 1.1730073005534134\n",
      "Policy Loss 0.1404347290786413\n",
      "Value Loss 0.7517031133174896\n",
      "Examples:\n",
      "tensor([ 0.2692,  0.0736,  0.0697,  0.0075, -0.0191,  0.2065,  0.2847])\n",
      "tensor([0.6131, 0.0000, 0.0000, 0.0000, 0.0000, 0.0201, 0.3668])\n",
      "tensor([0.0082])\n",
      "tensor(-1.)\n",
      "35/500\n"
     ]
    },
    {
     "name": "stderr",
     "output_type": "stream",
     "text": [
      "2257it [10:30,  3.58it/s]                        \n"
     ]
    },
    {
     "name": "stdout",
     "output_type": "stream",
     "text": [
      "\n",
      "loss: 1.2036208411057792\n",
      "Policy Loss 0.16328682750463486\n",
      "Value Loss 0.7137603585918745\n",
      "Examples:\n",
      "tensor([ 0.3317, -0.0130,  0.1054,  0.2311,  0.1253,  0.1003,  0.1811])\n",
      "tensor([0.0402, 0.0000, 0.0000, 0.0151, 0.0101, 0.9246, 0.0101])\n",
      "tensor([0.4711])\n",
      "tensor(1.)\n",
      "36/500\n"
     ]
    },
    {
     "name": "stderr",
     "output_type": "stream",
     "text": [
      "2051it [10:53,  3.14it/s]                        \n"
     ]
    },
    {
     "name": "stdout",
     "output_type": "stream",
     "text": [
      "\n",
      "loss: 1.1526533496379852\n",
      "Policy Loss 0.16208893179893494\n",
      "Value Loss 0.6663865542411804\n",
      "Examples:\n",
      "tensor([ 0.0096,  0.0070, -0.0380,  0.9015,  0.1293, -0.0021,  0.0084])\n",
      "tensor([0.0050, 0.0000, 0.0000, 0.9899, 0.0000, 0.0000, 0.0050])\n",
      "tensor([-0.2626])\n",
      "tensor(-1.)\n",
      "37/500\n"
     ]
    },
    {
     "name": "stderr",
     "output_type": "stream",
     "text": [
      "1578it [12:12,  2.16it/s]                        \n"
     ]
    },
    {
     "name": "stdout",
     "output_type": "stream",
     "text": [
      "\n",
      "loss: 1.1172877701705899\n",
      "Policy Loss 0.14646124248874598\n",
      "Value Loss 0.677904042704352\n",
      "Examples:\n",
      "tensor([0.0859, 0.5738, 0.0934, 0.0581, 0.0082, 0.1288, 0.0590])\n",
      "tensor([0.0603, 0.7387, 0.0201, 0.0402, 0.0000, 0.0653, 0.0754])\n",
      "tensor([-0.1146])\n",
      "tensor(1.)\n",
      "New best loss: 1.1172877701705899\n",
      "38/500\n"
     ]
    },
    {
     "name": "stderr",
     "output_type": "stream",
     "text": [
      "1665it [11:50,  2.34it/s]                        \n"
     ]
    },
    {
     "name": "stdout",
     "output_type": "stream",
     "text": [
      "\n",
      "loss: 1.115606062380331\n",
      "Policy Loss 0.13113712599234922\n",
      "Value Loss 0.7221946844032833\n",
      "Examples:\n",
      "tensor([-0.0023,  0.0482,  0.7995,  0.0023,  0.0825,  0.0152,  0.0235])\n",
      "tensor([0.0050, 0.0000, 0.7638, 0.0050, 0.1960, 0.0000, 0.0302])\n",
      "tensor([-0.3650])\n",
      "tensor(-1.)\n",
      "New best loss: 1.115606062380331\n",
      "39/500\n"
     ]
    },
    {
     "name": "stderr",
     "output_type": "stream",
     "text": [
      "1519it [12:22,  2.05it/s]                        \n"
     ]
    },
    {
     "name": "stdout",
     "output_type": "stream",
     "text": [
      "\n",
      "loss: 0.9909734395643075\n",
      "Policy Loss 0.1277860186994076\n",
      "Value Loss 0.6076153834660848\n",
      "Examples:\n",
      "tensor([ 0.0288,  0.1261,  0.3387, -0.0300,  0.2149,  0.2794,  0.1001])\n",
      "tensor([0.0151, 0.1206, 0.1055, 0.0050, 0.5879, 0.1357, 0.0302])\n",
      "tensor([-0.6233])\n",
      "tensor(-1.)\n",
      "New best loss: 0.9909734395643075\n",
      "40/500\n"
     ]
    },
    {
     "name": "stderr",
     "output_type": "stream",
     "text": [
      "1532it [12:34,  2.03it/s]                        \n"
     ]
    },
    {
     "name": "stdout",
     "output_type": "stream",
     "text": [
      "\n",
      "loss: 1.022805093973875\n",
      "Policy Loss 0.11630770539244016\n",
      "Value Loss 0.6738819777965546\n",
      "Examples:\n",
      "tensor([-0.0050, -0.0223,  0.0074,  0.0011,  0.0528,  0.8547,  0.0392])\n",
      "tensor([0.0000, 0.0000, 0.0000, 0.0000, 0.0000, 0.9799, 0.0201])\n",
      "tensor([0.4080])\n",
      "tensor(-1.)\n",
      "41/500\n"
     ]
    },
    {
     "name": "stderr",
     "output_type": "stream",
     "text": [
      "1278it [13:11,  1.61it/s]                        \n"
     ]
    },
    {
     "name": "stdout",
     "output_type": "stream",
     "text": [
      "\n",
      "loss: 0.9987262021750212\n",
      "Policy Loss 0.11845455877482891\n",
      "Value Loss 0.6433625258505344\n",
      "Examples:\n",
      "tensor([ 0.0423,  0.1430,  0.2434, -0.0020,  0.3398,  0.2478,  0.0085])\n",
      "tensor([0.0553, 0.1859, 0.4020, 0.0000, 0.2010, 0.1508, 0.0050])\n",
      "tensor([-0.6116])\n",
      "tensor(-1.)\n",
      "42/500\n"
     ]
    },
    {
     "name": "stderr",
     "output_type": "stream",
     "text": [
      "1432it [12:52,  1.85it/s]                        \n"
     ]
    },
    {
     "name": "stdout",
     "output_type": "stream",
     "text": [
      "\n",
      "loss: 0.8870581353704134\n",
      "Policy Loss 0.09896484464406967\n",
      "Value Loss 0.5901636014382045\n",
      "Examples:\n",
      "tensor([ 0.0052,  0.0149, -0.0326,  1.0229,  0.0075, -0.0040, -0.0047])\n",
      "tensor([0.0050, 0.0050, 0.0050, 0.9698, 0.0050, 0.0050, 0.0050])\n",
      "tensor([-0.5136])\n",
      "tensor(-1.)\n",
      "New best loss: 0.8870581353704134\n",
      "43/500\n"
     ]
    },
    {
     "name": "stderr",
     "output_type": "stream",
     "text": [
      "1324it [13:23,  1.65it/s]                        \n"
     ]
    },
    {
     "name": "stdout",
     "output_type": "stream",
     "text": [
      "\n",
      "loss: 1.050375388514611\n",
      "Policy Loss 0.11914460889754756\n",
      "Value Loss 0.6929415618219683\n",
      "Examples:\n",
      "tensor([ 0.0148,  0.0273,  0.8974, -0.0142, -0.0580,  0.1444, -0.0107])\n",
      "tensor([0.0000, 0.0050, 0.9598, 0.0000, 0.0000, 0.0302, 0.0050])\n",
      "tensor([-0.2424])\n",
      "tensor(-1.)\n",
      "44/500\n"
     ]
    },
    {
     "name": "stderr",
     "output_type": "stream",
     "text": [
      "1326it [13:01,  1.70it/s]                        \n"
     ]
    },
    {
     "name": "stdout",
     "output_type": "stream",
     "text": [
      "\n",
      "loss: 0.898600530480185\n",
      "Policy Loss 0.11608088569295022\n",
      "Value Loss 0.5503578734013342\n",
      "Examples:\n",
      "tensor([ 0.0244, -0.0415,  0.0834,  0.0526,  0.1114,  0.8532,  0.0973])\n",
      "tensor([0.0000, 0.0000, 0.2412, 0.0000, 0.0000, 0.6583, 0.1005])\n",
      "tensor([0.9261])\n",
      "tensor(1.)\n",
      "45/500\n"
     ]
    },
    {
     "name": "stderr",
     "output_type": "stream",
     "text": [
      "1593it [12:17,  2.16it/s]                        \n"
     ]
    },
    {
     "name": "stdout",
     "output_type": "stream",
     "text": [
      "\n",
      "loss: 1.1018629801170579\n",
      "Policy Loss 0.14315531813892826\n",
      "Value Loss 0.6723970257002732\n",
      "Examples:\n",
      "tensor([ 0.1071, -0.0333,  0.1165,  0.0114,  0.7461, -0.0273, -0.0151])\n",
      "tensor([0.0101, 0.0000, 0.3367, 0.0000, 0.6533, 0.0000, 0.0000])\n",
      "tensor([0.8486])\n",
      "tensor(1.)\n",
      "46/500\n"
     ]
    },
    {
     "name": "stderr",
     "output_type": "stream",
     "text": [
      "2242it [10:30,  3.55it/s]                        \n"
     ]
    },
    {
     "name": "stdout",
     "output_type": "stream",
     "text": [
      "\n",
      "loss: 1.1346721950297556\n",
      "Policy Loss 0.15136175199101368\n",
      "Value Loss 0.6805869390567144\n",
      "Examples:\n",
      "tensor([-0.0022, -0.0110,  0.0266,  0.0581,  0.8620,  0.0638,  0.0710])\n",
      "tensor([0.0000, 0.0050, 0.0101, 0.0000, 0.9095, 0.0101, 0.0653])\n",
      "tensor([-0.0226])\n",
      "tensor(-1.)\n",
      "47/500\n"
     ]
    },
    {
     "name": "stderr",
     "output_type": "stream",
     "text": [
      "1792it [11:51,  2.52it/s]                        \n"
     ]
    },
    {
     "name": "stdout",
     "output_type": "stream",
     "text": [
      "\n",
      "loss: 1.040213616830962\n",
      "Policy Loss 0.13713049462863378\n",
      "Value Loss 0.6288221329450607\n",
      "Examples:\n",
      "tensor([ 0.1343,  0.0656,  0.0488,  0.3589, -0.0088,  0.3046,  0.0623])\n",
      "tensor([0.3970, 0.0151, 0.0503, 0.1910, 0.0201, 0.2764, 0.0503])\n",
      "tensor([-0.5181])\n",
      "tensor(-1.)\n",
      "48/500\n"
     ]
    },
    {
     "name": "stderr",
     "output_type": "stream",
     "text": [
      "1569it [12:43,  2.05it/s]                        \n"
     ]
    },
    {
     "name": "stdout",
     "output_type": "stream",
     "text": [
      "\n",
      "loss: 1.0436922435102791\n",
      "Policy Loss 0.15076269774601378\n",
      "Value Loss 0.5914041502722378\n",
      "Examples:\n",
      "tensor([ 0.3903, -0.0564, -0.0289,  0.0566, -0.0179,  0.6933,  0.0296])\n",
      "tensor([0.6432, 0.0000, 0.0000, 0.0000, 0.0000, 0.3568, 0.0000])\n",
      "tensor([0.4100])\n",
      "tensor(-1.)\n",
      "49/500\n"
     ]
    },
    {
     "name": "stderr",
     "output_type": "stream",
     "text": [
      "1555it [12:35,  2.06it/s]                        \n"
     ]
    },
    {
     "name": "stdout",
     "output_type": "stream",
     "text": [
      "\n",
      "loss: 0.8892689601614557\n",
      "Policy Loss 0.12386423991671924\n",
      "Value Loss 0.517676240411298\n",
      "Examples:\n",
      "tensor([ 0.4133, -0.0673, -0.0039,  0.0479,  0.2905,  0.0022,  0.2178])\n",
      "tensor([0.1307, 0.0000, 0.0000, 0.0000, 0.5276, 0.0000, 0.3417])\n",
      "tensor([-0.1984])\n",
      "tensor(0.)\n",
      "50/500\n"
     ]
    },
    {
     "name": "stderr",
     "output_type": "stream",
     "text": [
      "1616it [12:23,  2.17it/s]                        \n"
     ]
    },
    {
     "name": "stdout",
     "output_type": "stream",
     "text": [
      "\n",
      "loss: 0.9000845574613274\n",
      "Policy Loss 0.11849660477761564\n",
      "Value Loss 0.5445947431284806\n",
      "Examples:\n",
      "tensor([0.0689, 0.0566, 0.1211, 0.2284, 0.1082, 0.3384, 0.0437])\n",
      "tensor([0.0101, 0.0352, 0.1106, 0.5829, 0.0251, 0.2312, 0.0050])\n",
      "tensor([0.7290])\n",
      "tensor(1.)\n",
      "51/500\n"
     ]
    },
    {
     "name": "stderr",
     "output_type": "stream",
     "text": [
      "948it [14:38,  1.08it/s]                         \n"
     ]
    },
    {
     "name": "stdout",
     "output_type": "stream",
     "text": [
      "\n",
      "loss: 0.6323859481250538\n",
      "Policy Loss 0.09864088805282817\n",
      "Value Loss 0.3364632839665693\n",
      "Examples:\n",
      "tensor([-0.0183, -0.0580,  0.0622, -0.0360,  0.0439,  0.8832, -0.0308])\n",
      "tensor([0.0000, 0.0000, 0.0101, 0.0000, 0.0000, 0.9849, 0.0050])\n",
      "tensor([0.1192])\n",
      "tensor(0.)\n",
      "New best loss: 0.6323859481250538\n",
      "52/500\n"
     ]
    },
    {
     "name": "stderr",
     "output_type": "stream",
     "text": [
      "1163it [14:02,  1.38it/s]                        \n"
     ]
    },
    {
     "name": "stdout",
     "output_type": "stream",
     "text": [
      "\n",
      "loss: 0.4985384178580716\n",
      "Policy Loss 0.07749464537482709\n",
      "Value Loss 0.26605448173359036\n",
      "Examples:\n",
      "tensor([-0.0182, -0.0283,  0.0422, -0.0211,  0.3297,  0.0043,  0.7116])\n",
      "tensor([0.0000, 0.0000, 0.0000, 0.0000, 0.2312, 0.0000, 0.7688])\n",
      "tensor([-0.0457])\n",
      "tensor(0.)\n",
      "New best loss: 0.4985384178580716\n",
      "53/500\n"
     ]
    },
    {
     "name": "stderr",
     "output_type": "stream",
     "text": [
      "1261it [13:14,  1.59it/s]                        \n"
     ]
    },
    {
     "name": "stdout",
     "output_type": "stream",
     "text": [
      "\n",
      "loss: 0.6721566298510879\n",
      "Policy Loss 0.08124349848367274\n",
      "Value Loss 0.4284261344000697\n",
      "Examples:\n",
      "tensor([ 0.0547, -0.0052,  0.7310,  0.0159,  0.0385, -0.0098,  0.1413])\n",
      "tensor([0.0201, 0.0000, 0.8643, 0.0000, 0.0000, 0.0000, 0.1156])\n",
      "tensor([-0.0694])\n",
      "tensor(0.)\n",
      "54/500\n"
     ]
    },
    {
     "name": "stderr",
     "output_type": "stream",
     "text": [
      "1495it [12:38,  1.97it/s]                        \n"
     ]
    },
    {
     "name": "stdout",
     "output_type": "stream",
     "text": [
      "\n",
      "loss: 0.967958648254474\n",
      "Policy Loss 0.13187009568015734\n",
      "Value Loss 0.572348361214002\n",
      "Examples:\n",
      "tensor([-0.0085,  0.9695,  0.0749, -0.0465,  0.0064, -0.0121, -0.0054])\n",
      "tensor([0.0101, 0.9749, 0.0050, 0.0000, 0.0050, 0.0000, 0.0050])\n",
      "tensor([0.0392])\n",
      "tensor(1.)\n",
      "55/500\n"
     ]
    },
    {
     "name": "stderr",
     "output_type": "stream",
     "text": [
      "972it [14:29,  1.12it/s]                         \n"
     ]
    },
    {
     "name": "stdout",
     "output_type": "stream",
     "text": [
      "\n",
      "loss: 0.6329771740471615\n",
      "Policy Loss 0.08800053377361859\n",
      "Value Loss 0.36897557272630577\n",
      "Examples:\n",
      "tensor([ 0.2367,  0.1233, -0.0079, -0.0187,  0.2978,  0.2939,  0.0200])\n",
      "tensor([0.0754, 0.0653, 0.0000, 0.0000, 0.8040, 0.0402, 0.0151])\n",
      "tensor([0.6579])\n",
      "tensor(1.)\n",
      "56/500\n"
     ]
    },
    {
     "name": "stderr",
     "output_type": "stream",
     "text": [
      "1024it [14:19,  1.19it/s]                        \n"
     ]
    },
    {
     "name": "stdout",
     "output_type": "stream",
     "text": [
      "\n",
      "loss: 0.5997443135608644\n",
      "Policy Loss 0.08808735254056313\n",
      "Value Loss 0.3354822559391751\n",
      "Examples:\n",
      "tensor([0.1832, 0.1403, 0.4587, 0.0807, 0.0354, 0.0808, 0.0849])\n",
      "tensor([0.0653, 0.2613, 0.4221, 0.1709, 0.0503, 0.0151, 0.0151])\n",
      "tensor([-0.9122])\n",
      "tensor(-1.)\n",
      "57/500\n"
     ]
    },
    {
     "name": "stderr",
     "output_type": "stream",
     "text": [
      "895it [15:03,  1.01s/it]                         \n"
     ]
    },
    {
     "name": "stdout",
     "output_type": "stream",
     "text": [
      "\n",
      "loss: 0.5832178074334349\n",
      "Policy Loss 0.07077312756861959\n",
      "Value Loss 0.3708984247275761\n",
      "Examples:\n",
      "tensor([ 0.0179,  0.8687,  0.0017,  0.0188, -0.0114,  0.0471, -0.0471])\n",
      "tensor([0.0050, 0.9698, 0.0151, 0.0000, 0.0050, 0.0050, 0.0000])\n",
      "tensor([0.3098])\n",
      "tensor(0.)\n",
      "58/500\n"
     ]
    },
    {
     "name": "stderr",
     "output_type": "stream",
     "text": [
      "1150it [13:54,  1.38it/s]                        \n"
     ]
    },
    {
     "name": "stdout",
     "output_type": "stream",
     "text": [
      "\n",
      "loss: 0.6382888070110119\n",
      "Policy Loss 0.08144874080564037\n",
      "Value Loss 0.39394258459409076\n",
      "Examples:\n",
      "tensor([0.0244, 0.0363, 0.2887, 0.0032, 0.4721, 0.1304, 0.0723])\n",
      "tensor([0.0000, 0.0201, 0.1859, 0.0000, 0.2513, 0.4874, 0.0553])\n",
      "tensor([-0.3562])\n",
      "tensor(-1.)\n",
      "59/500\n"
     ]
    },
    {
     "name": "stderr",
     "output_type": "stream",
     "text": [
      "786it [14:33,  1.11s/it]                         \n"
     ]
    },
    {
     "name": "stdout",
     "output_type": "stream",
     "text": [
      "\n",
      "loss: 0.5336680575140885\n",
      "Policy Loss 0.07497134921806199\n",
      "Value Loss 0.30875400985990253\n",
      "Examples:\n",
      "tensor([ 0.0113,  0.0612, -0.0090, -0.0332, -0.0286,  0.0382,  0.9974])\n",
      "tensor([0., 0., 0., 0., 0., 0., 1.])\n",
      "tensor([0.1047])\n",
      "tensor(0.)\n",
      "60/500\n"
     ]
    },
    {
     "name": "stderr",
     "output_type": "stream",
     "text": [
      "748it [32:21,  2.60s/it]                         \n"
     ]
    },
    {
     "name": "stdout",
     "output_type": "stream",
     "text": [
      "\n",
      "loss: 0.5011533130374219\n",
      "Policy Loss 0.06515524329410659\n",
      "Value Loss 0.3056875831551022\n",
      "Examples:\n",
      "tensor([ 1.2734e-01, -2.1984e-02, -5.2184e-03, -1.4453e-02,  9.1167e-01,\n",
      "        -1.7269e-04, -3.6967e-02])\n",
      "tensor([0.0151, 0.0000, 0.0000, 0.0000, 0.9849, 0.0000, 0.0000])\n",
      "tensor([0.0921])\n",
      "tensor(0.)\n",
      "61/500\n"
     ]
    },
    {
     "name": "stderr",
     "output_type": "stream",
     "text": [
      " 52%|█████▏    | 66/128 [07:37<02:13,  2.15s/it]"
     ]
    }
   ],
   "source": [
    "device = torch.device(\"mps\")\n",
    "\n",
    "args = {\n",
    "    \"batch_size\": 128,\n",
    "    \"numIters\": 500,  # Total number of training iterations\n",
    "    \"num_simulations\": 200,  # Total number of MCTS simulations to run when deciding on a move to play\n",
    "    \"numEps\": 128,  # Number of full games (episodes) to run during each iteration\n",
    "    \"numItersForTrainExamplesHistory\": 20,\n",
    "    \"epochs\": 2,  # Number of epochs of training per iteration\n",
    "    \"checkpoint_path\": \"../data/latest.pth\",  # location to save latest set of weights\n",
    "    \"loss_history_path\": \"../data/loss_history.csv\",  # location to save loss history\n",
    "    \"temperature\": 1,  #\n",
    "}\n",
    "\n",
    "if os.path.exists(args[\"checkpoint_path\"]):\n",
    "    model = AlphaZeroModelConnect4()\n",
    "    model.load_state_dict(torch.load(args[\"checkpoint_path\"]))\n",
    "    print(\"Loaded model from checkpoint\")\n",
    "else:\n",
    "    model = AlphaZeroModelConnect4()\n",
    "model.to(device)\n",
    "\n",
    "trainer = Trainer(model, args)\n",
    "trainer.learn()"
   ]
  }
 ],
 "metadata": {
  "kernelspec": {
   "display_name": ".venv",
   "language": "python",
   "name": "python3"
  },
  "language_info": {
   "codemirror_mode": {
    "name": "ipython",
    "version": 3
   },
   "file_extension": ".py",
   "mimetype": "text/x-python",
   "name": "python",
   "nbconvert_exporter": "python",
   "pygments_lexer": "ipython3",
   "version": "3.12.2"
  }
 },
 "nbformat": 4,
 "nbformat_minor": 2
}
