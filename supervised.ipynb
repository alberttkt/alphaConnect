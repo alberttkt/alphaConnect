{
 "cells": [
  {
   "cell_type": "code",
   "execution_count": 19,
   "metadata": {},
   "outputs": [],
   "source": [
    "import os\n",
    "from torch import optim, nn, utils, Tensor\n",
    "import lightning as L\n",
    "import pandas as pd\n",
    "from lightning.pytorch.callbacks import EarlyStopping\n",
    "from supervised_model import AlphaZeroModel,MyDataset"
   ]
  },
  {
   "cell_type": "code",
   "execution_count": 20,
   "metadata": {},
   "outputs": [
    {
     "name": "stdout",
     "output_type": "stream",
     "text": [
      "The autoreload extension is already loaded. To reload it, use:\n",
      "  %reload_ext autoreload\n"
     ]
    }
   ],
   "source": [
    "%load_ext autoreload\n",
    "%autoreload 2\n"
   ]
  },
  {
   "cell_type": "code",
   "execution_count": 21,
   "metadata": {},
   "outputs": [],
   "source": [
    "model = AlphaZeroModel()"
   ]
  },
  {
   "cell_type": "code",
   "execution_count": 22,
   "metadata": {},
   "outputs": [],
   "source": [
    "# load data.csv\n",
    "data = pd.read_csv('data.csv')\n",
    "x = data.iloc[:, :-1].values\n",
    "y = data.iloc[:, -1].values\n",
    "# keep only the first digit of the labels\n",
    "train_ratio = 0.85\n",
    "x_train, x_test = x[:int(train_ratio*len(x))], x[int(train_ratio*len(x)):]\n",
    "y_train, y_test = [int(str(i)[0]) for i in y][:int(train_ratio*len(y))], y[int(train_ratio*len(y)):]\n",
    "\n",
    "\n",
    "# create a dataset\n",
    "train_dataset = MyDataset(Tensor(x_train), Tensor(y_train))\n",
    "test_dataset = MyDataset(Tensor(x_test), Tensor(y_test))\n",
    "\n",
    "# create a dataloader\n",
    "train_loader = utils.data.DataLoader(train_dataset, batch_size=128, shuffle=True,num_workers=9)\n",
    "test_loader = utils.data.DataLoader(test_dataset, batch_size=1, shuffle=False,num_workers=9)\n"
   ]
  },
  {
   "cell_type": "code",
   "execution_count": 23,
   "metadata": {},
   "outputs": [],
   "source": [
    "class TestLossCallback(L.Callback):\n",
    "    def __init__(self,test_dataloader):\n",
    "        self.test_dataloader = test_dataloader\n",
    "    def on_train_epoch_end(self, trainer, pl_module):\n",
    "        # if trainer.current_epoch % 5 != 0 :\n",
    "        #     return\n",
    "            \n",
    "        pl_module.eval()\n",
    "        correct = 0\n",
    "        total = 0\n",
    "        i=0\n",
    "        for x, y in self.test_dataloader:\n",
    "            if i>1000:\n",
    "                break\n",
    "            i+=1\n",
    "            y = [int(a) for a in str(int(y[0]))] \n",
    "            y_hat = pl_module(x.to(\"mps\"))\n",
    "            _, predicted = y_hat.max(1)\n",
    "            total += 1\n",
    "            correct += 1 if (predicted in y) else 0\n",
    "        print(f'Accuracy: {correct/total}')\n",
    "        \n",
    "        pl_module.train()\n",
    "        \n",
    "        "
   ]
  },
  {
   "cell_type": "code",
   "execution_count": 24,
   "metadata": {},
   "outputs": [
    {
     "name": "stderr",
     "output_type": "stream",
     "text": [
      "GPU available: True (mps), used: True\n",
      "TPU available: False, using: 0 TPU cores\n",
      "IPU available: False, using: 0 IPUs\n",
      "HPU available: False, using: 0 HPUs\n",
      "\n",
      "  | Name        | Type       | Params\n",
      "-------------------------------------------\n",
      "0 | conv_layers | Sequential | 22.5 M\n",
      "1 | fc_layers   | Sequential | 1.1 K \n",
      "-------------------------------------------\n",
      "22.5 M    Trainable params\n",
      "0         Non-trainable params\n",
      "22.5 M    Total params\n",
      "89.805    Total estimated model params size (MB)\n",
      "/Users/alberttroussard/Documents/connect4project/.venv/lib/python3.12/site-packages/lightning/pytorch/trainer/connectors/data_connector.py:436: Consider setting `persistent_workers=True` in 'train_dataloader' to speed up the dataloader worker initialization.\n"
     ]
    },
    {
     "data": {
      "application/vnd.jupyter.widget-view+json": {
       "model_id": "a67ecaa423874355845efc65c54fa361",
       "version_major": 2,
       "version_minor": 0
      },
      "text/plain": [
       "Training: |          | 0/? [00:00<?, ?it/s]"
      ]
     },
     "metadata": {},
     "output_type": "display_data"
    },
    {
     "name": "stderr",
     "output_type": "stream",
     "text": [
      "Metric train_loss improved. New best score: 1.622\n"
     ]
    },
    {
     "name": "stdout",
     "output_type": "stream",
     "text": [
      "Accuracy: 0.4595404595404595\n"
     ]
    },
    {
     "name": "stderr",
     "output_type": "stream",
     "text": [
      "Metric train_loss improved by 0.196 >= min_delta = 0.01. New best score: 1.426\n"
     ]
    },
    {
     "name": "stdout",
     "output_type": "stream",
     "text": [
      "Accuracy: 0.5664335664335665\n"
     ]
    },
    {
     "name": "stderr",
     "output_type": "stream",
     "text": [
      "Metric train_loss improved by 0.111 >= min_delta = 0.01. New best score: 1.315\n"
     ]
    },
    {
     "name": "stdout",
     "output_type": "stream",
     "text": [
      "Accuracy: 0.6083916083916084\n"
     ]
    },
    {
     "name": "stderr",
     "output_type": "stream",
     "text": [
      "Metric train_loss improved by 0.089 >= min_delta = 0.01. New best score: 1.225\n"
     ]
    },
    {
     "name": "stdout",
     "output_type": "stream",
     "text": [
      "Accuracy: 0.6473526473526473\n"
     ]
    },
    {
     "name": "stderr",
     "output_type": "stream",
     "text": [
      "Metric train_loss improved by 0.044 >= min_delta = 0.01. New best score: 1.182\n"
     ]
    },
    {
     "name": "stdout",
     "output_type": "stream",
     "text": [
      "Accuracy: 0.6033966033966034\n"
     ]
    },
    {
     "name": "stderr",
     "output_type": "stream",
     "text": [
      "Metric train_loss improved by 0.068 >= min_delta = 0.01. New best score: 1.113\n"
     ]
    },
    {
     "name": "stdout",
     "output_type": "stream",
     "text": [
      "Accuracy: 0.6873126873126874\n"
     ]
    },
    {
     "name": "stderr",
     "output_type": "stream",
     "text": [
      "Metric train_loss improved by 0.028 >= min_delta = 0.01. New best score: 1.085\n"
     ]
    },
    {
     "name": "stdout",
     "output_type": "stream",
     "text": [
      "Accuracy: 0.6903096903096904\n"
     ]
    },
    {
     "name": "stderr",
     "output_type": "stream",
     "text": [
      "Metric train_loss improved by 0.046 >= min_delta = 0.01. New best score: 1.039\n"
     ]
    },
    {
     "name": "stdout",
     "output_type": "stream",
     "text": [
      "Accuracy: 0.6773226773226774\n"
     ]
    },
    {
     "name": "stderr",
     "output_type": "stream",
     "text": [
      "Metric train_loss improved by 0.043 >= min_delta = 0.01. New best score: 0.996\n"
     ]
    },
    {
     "name": "stdout",
     "output_type": "stream",
     "text": [
      "Accuracy: 0.6093906093906094\n"
     ]
    },
    {
     "name": "stderr",
     "output_type": "stream",
     "text": [
      "Metric train_loss improved by 0.017 >= min_delta = 0.01. New best score: 0.979\n"
     ]
    },
    {
     "name": "stdout",
     "output_type": "stream",
     "text": [
      "Accuracy: 0.7262737262737263\n"
     ]
    },
    {
     "name": "stderr",
     "output_type": "stream",
     "text": [
      "Metric train_loss improved by 0.031 >= min_delta = 0.01. New best score: 0.948\n"
     ]
    },
    {
     "name": "stdout",
     "output_type": "stream",
     "text": [
      "Accuracy: 0.6423576423576424\n"
     ]
    },
    {
     "name": "stderr",
     "output_type": "stream",
     "text": [
      "Metric train_loss improved by 0.029 >= min_delta = 0.01. New best score: 0.919\n"
     ]
    },
    {
     "name": "stdout",
     "output_type": "stream",
     "text": [
      "Accuracy: 0.7442557442557443\n"
     ]
    },
    {
     "name": "stderr",
     "output_type": "stream",
     "text": [
      "Metric train_loss improved by 0.013 >= min_delta = 0.01. New best score: 0.906\n"
     ]
    },
    {
     "name": "stdout",
     "output_type": "stream",
     "text": [
      "Accuracy: 0.7612387612387612\n"
     ]
    },
    {
     "name": "stderr",
     "output_type": "stream",
     "text": [
      "Metric train_loss improved by 0.018 >= min_delta = 0.01. New best score: 0.887\n"
     ]
    },
    {
     "name": "stdout",
     "output_type": "stream",
     "text": [
      "Accuracy: 0.7182817182817183\n"
     ]
    },
    {
     "name": "stderr",
     "output_type": "stream",
     "text": [
      "Metric train_loss improved by 0.016 >= min_delta = 0.01. New best score: 0.871\n"
     ]
    },
    {
     "name": "stdout",
     "output_type": "stream",
     "text": [
      "Accuracy: 0.6883116883116883\n"
     ]
    },
    {
     "name": "stderr",
     "output_type": "stream",
     "text": [
      "Metric train_loss improved by 0.021 >= min_delta = 0.01. New best score: 0.850\n"
     ]
    },
    {
     "name": "stdout",
     "output_type": "stream",
     "text": [
      "Accuracy: 0.6923076923076923\n"
     ]
    },
    {
     "name": "stderr",
     "output_type": "stream",
     "text": [
      "Metric train_loss improved by 0.020 >= min_delta = 0.01. New best score: 0.830\n"
     ]
    },
    {
     "name": "stdout",
     "output_type": "stream",
     "text": [
      "Accuracy: 0.7222777222777222\n"
     ]
    },
    {
     "name": "stderr",
     "output_type": "stream",
     "text": [
      "Metric train_loss improved by 0.013 >= min_delta = 0.01. New best score: 0.817\n"
     ]
    },
    {
     "name": "stdout",
     "output_type": "stream",
     "text": [
      "Accuracy: 0.7032967032967034\n"
     ]
    },
    {
     "name": "stderr",
     "output_type": "stream",
     "text": [
      "Metric train_loss improved by 0.015 >= min_delta = 0.01. New best score: 0.802\n"
     ]
    },
    {
     "name": "stdout",
     "output_type": "stream",
     "text": [
      "Accuracy: 0.7612387612387612\n"
     ]
    },
    {
     "name": "stderr",
     "output_type": "stream",
     "text": [
      "Metric train_loss improved by 0.016 >= min_delta = 0.01. New best score: 0.786\n"
     ]
    },
    {
     "name": "stdout",
     "output_type": "stream",
     "text": [
      "Accuracy: 0.7642357642357642\n",
      "Accuracy: 0.7752247752247752\n"
     ]
    },
    {
     "name": "stderr",
     "output_type": "stream",
     "text": [
      "Metric train_loss improved by 0.027 >= min_delta = 0.01. New best score: 0.759\n"
     ]
    },
    {
     "name": "stdout",
     "output_type": "stream",
     "text": [
      "Accuracy: 0.7752247752247752\n",
      "Accuracy: 0.7312687312687313\n"
     ]
    },
    {
     "name": "stderr",
     "output_type": "stream",
     "text": [
      "Metric train_loss improved by 0.022 >= min_delta = 0.01. New best score: 0.737\n"
     ]
    },
    {
     "name": "stdout",
     "output_type": "stream",
     "text": [
      "Accuracy: 0.7342657342657343\n",
      "Accuracy: 0.7782217782217782\n"
     ]
    },
    {
     "name": "stderr",
     "output_type": "stream",
     "text": [
      "Metric train_loss improved by 0.022 >= min_delta = 0.01. New best score: 0.715\n"
     ]
    },
    {
     "name": "stdout",
     "output_type": "stream",
     "text": [
      "Accuracy: 0.7442557442557443\n",
      "Accuracy: 0.7422577422577422\n"
     ]
    },
    {
     "name": "stderr",
     "output_type": "stream",
     "text": [
      "Metric train_loss improved by 0.016 >= min_delta = 0.01. New best score: 0.699\n"
     ]
    },
    {
     "name": "stdout",
     "output_type": "stream",
     "text": [
      "Accuracy: 0.7882117882117882\n"
     ]
    },
    {
     "name": "stderr",
     "output_type": "stream",
     "text": [
      "Metric train_loss improved by 0.011 >= min_delta = 0.01. New best score: 0.687\n"
     ]
    },
    {
     "name": "stdout",
     "output_type": "stream",
     "text": [
      "Accuracy: 0.8021978021978022\n",
      "Accuracy: 0.7322677322677322\n",
      "Accuracy: 0.8101898101898102\n"
     ]
    },
    {
     "name": "stderr",
     "output_type": "stream",
     "text": [
      "Metric train_loss improved by 0.026 >= min_delta = 0.01. New best score: 0.661\n"
     ]
    },
    {
     "name": "stdout",
     "output_type": "stream",
     "text": [
      "Accuracy: 0.7822177822177823\n",
      "Accuracy: 0.7482517482517482\n"
     ]
    },
    {
     "name": "stderr",
     "output_type": "stream",
     "text": [
      "Metric train_loss improved by 0.014 >= min_delta = 0.01. New best score: 0.648\n"
     ]
    },
    {
     "name": "stdout",
     "output_type": "stream",
     "text": [
      "Accuracy: 0.7922077922077922\n"
     ]
    },
    {
     "name": "stderr",
     "output_type": "stream",
     "text": [
      "Metric train_loss improved by 0.021 >= min_delta = 0.01. New best score: 0.627\n"
     ]
    },
    {
     "name": "stdout",
     "output_type": "stream",
     "text": [
      "Accuracy: 0.7722277722277723\n",
      "Accuracy: 0.7752247752247752\n",
      "Accuracy: 0.7812187812187812\n"
     ]
    },
    {
     "name": "stderr",
     "output_type": "stream",
     "text": [
      "Metric train_loss improved by 0.026 >= min_delta = 0.01. New best score: 0.601\n"
     ]
    },
    {
     "name": "stdout",
     "output_type": "stream",
     "text": [
      "Accuracy: 0.7842157842157842\n",
      "Accuracy: 0.8031968031968032\n"
     ]
    },
    {
     "name": "stderr",
     "output_type": "stream",
     "text": [
      "Metric train_loss improved by 0.014 >= min_delta = 0.01. New best score: 0.587\n"
     ]
    },
    {
     "name": "stdout",
     "output_type": "stream",
     "text": [
      "Accuracy: 0.8131868131868132\n",
      "Accuracy: 0.7802197802197802\n"
     ]
    },
    {
     "name": "stderr",
     "output_type": "stream",
     "text": [
      "Metric train_loss improved by 0.013 >= min_delta = 0.01. New best score: 0.574\n"
     ]
    },
    {
     "name": "stdout",
     "output_type": "stream",
     "text": [
      "Accuracy: 0.7962037962037962\n",
      "Accuracy: 0.7772227772227772\n",
      "Accuracy: 0.7922077922077922\n"
     ]
    },
    {
     "name": "stderr",
     "output_type": "stream",
     "text": [
      "Metric train_loss improved by 0.019 >= min_delta = 0.01. New best score: 0.555\n"
     ]
    },
    {
     "name": "stdout",
     "output_type": "stream",
     "text": [
      "Accuracy: 0.7872127872127872\n"
     ]
    },
    {
     "name": "stderr",
     "output_type": "stream",
     "text": [
      "Metric train_loss improved by 0.016 >= min_delta = 0.01. New best score: 0.539\n"
     ]
    },
    {
     "name": "stdout",
     "output_type": "stream",
     "text": [
      "Accuracy: 0.8111888111888111\n",
      "Accuracy: 0.8031968031968032\n",
      "Accuracy: 0.7832167832167832\n"
     ]
    },
    {
     "name": "stderr",
     "output_type": "stream",
     "text": [
      "Metric train_loss improved by 0.011 >= min_delta = 0.01. New best score: 0.528\n"
     ]
    },
    {
     "name": "stdout",
     "output_type": "stream",
     "text": [
      "Accuracy: 0.7632367632367633\n"
     ]
    },
    {
     "name": "stderr",
     "output_type": "stream",
     "text": [
      "Metric train_loss improved by 0.017 >= min_delta = 0.01. New best score: 0.511\n"
     ]
    },
    {
     "name": "stdout",
     "output_type": "stream",
     "text": [
      "Accuracy: 0.8071928071928072\n",
      "Accuracy: 0.8041958041958042\n"
     ]
    },
    {
     "name": "stderr",
     "output_type": "stream",
     "text": [
      "Metric train_loss improved by 0.012 >= min_delta = 0.01. New best score: 0.499\n"
     ]
    },
    {
     "name": "stdout",
     "output_type": "stream",
     "text": [
      "Accuracy: 0.8091908091908092\n"
     ]
    },
    {
     "name": "stderr",
     "output_type": "stream",
     "text": [
      "Metric train_loss improved by 0.014 >= min_delta = 0.01. New best score: 0.486\n"
     ]
    },
    {
     "name": "stdout",
     "output_type": "stream",
     "text": [
      "Accuracy: 0.8031968031968032\n",
      "Accuracy: 0.8061938061938062\n",
      "Accuracy: 0.8021978021978022\n"
     ]
    },
    {
     "name": "stderr",
     "output_type": "stream",
     "text": [
      "Metric train_loss improved by 0.022 >= min_delta = 0.01. New best score: 0.464\n"
     ]
    },
    {
     "name": "stdout",
     "output_type": "stream",
     "text": [
      "Accuracy: 0.7702297702297702\n",
      "Accuracy: 0.8001998001998002\n",
      "Accuracy: 0.8091908091908092\n"
     ]
    },
    {
     "name": "stderr",
     "output_type": "stream",
     "text": [
      "Metric train_loss improved by 0.012 >= min_delta = 0.01. New best score: 0.452\n"
     ]
    },
    {
     "name": "stdout",
     "output_type": "stream",
     "text": [
      "Accuracy: 0.8101898101898102\n",
      "Accuracy: 0.8191808191808192\n",
      "Accuracy: 0.8021978021978022\n"
     ]
    },
    {
     "name": "stderr",
     "output_type": "stream",
     "text": [
      "Metric train_loss improved by 0.021 >= min_delta = 0.01. New best score: 0.431\n"
     ]
    },
    {
     "name": "stdout",
     "output_type": "stream",
     "text": [
      "Accuracy: 0.8111888111888111\n",
      "Accuracy: 0.7902097902097902\n",
      "Accuracy: 0.8041958041958042\n",
      "Accuracy: 0.8111888111888111\n"
     ]
    },
    {
     "name": "stderr",
     "output_type": "stream",
     "text": [
      "Metric train_loss improved by 0.024 >= min_delta = 0.01. New best score: 0.407\n"
     ]
    },
    {
     "name": "stdout",
     "output_type": "stream",
     "text": [
      "Accuracy: 0.7852147852147852\n",
      "Accuracy: 0.8001998001998002\n",
      "Accuracy: 0.8161838161838162\n",
      "Accuracy: 0.8241758241758241\n"
     ]
    },
    {
     "name": "stderr",
     "output_type": "stream",
     "text": [
      "Metric train_loss improved by 0.022 >= min_delta = 0.01. New best score: 0.384\n"
     ]
    },
    {
     "name": "stdout",
     "output_type": "stream",
     "text": [
      "Accuracy: 0.8231768231768232\n",
      "Accuracy: 0.7872127872127872\n",
      "Accuracy: 0.8001998001998002\n",
      "Accuracy: 0.8091908091908092\n"
     ]
    },
    {
     "name": "stderr",
     "output_type": "stream",
     "text": [
      "Metric train_loss improved by 0.015 >= min_delta = 0.01. New best score: 0.370\n"
     ]
    },
    {
     "name": "stdout",
     "output_type": "stream",
     "text": [
      "Accuracy: 0.8081918081918081\n",
      "Accuracy: 0.8271728271728271\n",
      "Accuracy: 0.8261738261738262\n"
     ]
    },
    {
     "name": "stderr",
     "output_type": "stream",
     "text": [
      "Metric train_loss improved by 0.014 >= min_delta = 0.01. New best score: 0.356\n"
     ]
    },
    {
     "name": "stdout",
     "output_type": "stream",
     "text": [
      "Accuracy: 0.8091908091908092\n",
      "Accuracy: 0.7942057942057942\n",
      "Accuracy: 0.7982017982017982\n"
     ]
    },
    {
     "name": "stderr",
     "output_type": "stream",
     "text": [
      "Metric train_loss improved by 0.010 >= min_delta = 0.01. New best score: 0.346\n"
     ]
    },
    {
     "name": "stdout",
     "output_type": "stream",
     "text": [
      "Accuracy: 0.7972027972027972\n"
     ]
    },
    {
     "name": "stderr",
     "output_type": "stream",
     "text": [
      "Metric train_loss improved by 0.022 >= min_delta = 0.01. New best score: 0.324\n"
     ]
    },
    {
     "name": "stdout",
     "output_type": "stream",
     "text": [
      "Accuracy: 0.8091908091908092\n",
      "Accuracy: 0.7882117882117882\n",
      "Accuracy: 0.8111888111888111\n",
      "Accuracy: 0.8171828171828172\n",
      "Accuracy: 0.8101898101898102\n"
     ]
    },
    {
     "name": "stderr",
     "output_type": "stream",
     "text": [
      "Monitored metric train_loss did not improve in the last 5 records. Best score: 0.324. Signaling Trainer to stop.\n"
     ]
    },
    {
     "name": "stdout",
     "output_type": "stream",
     "text": [
      "Accuracy: 0.8051948051948052\n"
     ]
    }
   ],
   "source": [
    "# add early stopping\n",
    "import torch\n",
    "\n",
    "\n",
    "torch.autograd.set_detect_anomaly(True)\n",
    "es = EarlyStopping(monitor='train_loss',min_delta=0.01,verbose=True,mode='min',patience=5,check_on_train_epoch_end=True)\n",
    "trainer = L.Trainer(min_epochs=15,max_epochs=400, limit_train_batches=128,default_root_dir=\"supervised\",check_val_every_n_epoch=1,callbacks=[es,TestLossCallback(test_loader)])\n",
    "trainer.fit(model=model, train_dataloaders=train_loader)"
   ]
  },
  {
   "cell_type": "code",
   "execution_count": 25,
   "metadata": {},
   "outputs": [
    {
     "name": "stdout",
     "output_type": "stream",
     "text": [
      "Accuracy: 80.6% at 1000/29326\n",
      "Accuracy: 78.9% at 2000/29326\n",
      "Accuracy: 79.0% at 3000/29326\n",
      "Accuracy: 79.275% at 4000/29326\n",
      "Accuracy: 79.5% at 5000/29326\n",
      "Accuracy: 79.65% at 6000/29326\n",
      "Accuracy: 79.65714285714286% at 7000/29326\n",
      "Accuracy: 79.4375% at 8000/29326\n",
      "Accuracy: 79.62222222222222% at 9000/29326\n",
      "Accuracy: 79.71% at 10000/29326\n",
      "Accuracy: 79.77272727272727% at 11000/29326\n",
      "Accuracy: 79.65% at 12000/29326\n",
      "Accuracy: 79.52307692307693% at 13000/29326\n",
      "Accuracy: 79.5% at 14000/29326\n",
      "Accuracy: 79.58% at 15000/29326\n",
      "Accuracy: 79.5625% at 16000/29326\n",
      "Accuracy: 79.69411764705882% at 17000/29326\n",
      "Accuracy: 79.75555555555556% at 18000/29326\n",
      "Accuracy: 79.76315789473684% at 19000/29326\n",
      "Accuracy: 79.76% at 20000/29326\n",
      "Accuracy: 79.81428571428572% at 21000/29326\n",
      "Accuracy: 79.96363636363637% at 22000/29326\n",
      "Accuracy: 79.94347826086957% at 23000/29326\n",
      "Accuracy: 80.00416666666666% at 24000/29326\n",
      "Accuracy: 79.884% at 25000/29326\n",
      "Accuracy: 79.85384615384615% at 26000/29326\n",
      "Accuracy: 79.9% at 27000/29326\n",
      "Accuracy: 79.92857142857143% at 28000/29326\n",
      "Accuracy: 79.93448275862069% at 29000/29326\n",
      "{0: 1028, 1: 7377, 2: 5616, 3: 7462, 4: 4306, 5: 2430, 6: 1107}\n",
      "Accuracy: 79.91202346041055%\n"
     ]
    }
   ],
   "source": [
    "from tqdm import tqdm\n",
    "\n",
    "# test the model\n",
    "model.eval()\n",
    "\n",
    "correct = 0\n",
    "total = 0\n",
    "predictions ={0:0,1:0,2:0,3:0,4:0,5:0,6:0}\n",
    "for x, y in test_loader:      \n",
    "        y = [int(a) for a in str(int(y[0]))]\n",
    "        y_hat = model(Tensor(x))\n",
    "        _, predicted = y_hat.max(1)\n",
    "        #print(f'Predicted: {(predicted)} True: {y}')\n",
    "        predictions[int(predicted)] += 1\n",
    "        total += 1\n",
    "        correct += 1 if (predicted in y) else 0\n",
    "        if total % 1000 == 0:\n",
    "                print(f'Accuracy: {100 * correct / total}% at {total}/{len(test_loader)}')\n",
    "\n",
    "print(predictions)\n",
    "print(f'Accuracy: {100 * correct / total}%')\n",
    "\n"
   ]
  },
  {
   "cell_type": "code",
   "execution_count": 26,
   "metadata": {},
   "outputs": [
    {
     "name": "stdout",
     "output_type": "stream",
     "text": [
      "Accuracy: 89.6% at 1000/166179\n",
      "Accuracy: 89.35% at 2000/166179\n",
      "Accuracy: 88.5% at 3000/166179\n",
      "Accuracy: 88.625% at 4000/166179\n",
      "Accuracy: 88.44% at 5000/166179\n",
      "Accuracy: 88.66666666666667% at 6000/166179\n",
      "Accuracy: 88.58571428571429% at 7000/166179\n",
      "Accuracy: 88.6375% at 8000/166179\n",
      "Accuracy: 88.74444444444444% at 9000/166179\n",
      "Accuracy: 88.66% at 10000/166179\n",
      "{0: 376, 1: 2359, 2: 2015, 3: 2651, 4: 1410, 5: 785, 6: 405}\n",
      "Accuracy: 88.66113388661134%\n"
     ]
    }
   ],
   "source": [
    "# test the model\n",
    "model.eval()\n",
    "\n",
    "correct = 0\n",
    "total = 0\n",
    "predictions ={0:0,1:0,2:0,3:0,4:0,5:0,6:0}\n",
    "train_loder_batch1 = utils.data.DataLoader(train_dataset, batch_size=1, shuffle=False)\n",
    "for x, y in train_loder_batch1:    \n",
    "        \n",
    "        if total > 10000:\n",
    "            break\n",
    "        y = [y]\n",
    "        y_hat = model(Tensor(x))\n",
    "        #print(f\"i:{y_hat}\")\n",
    "        _, predicted = y_hat.max(1)\n",
    "        predictions[int(predicted)] += 1\n",
    "        total += 1\n",
    "        correct += 1 if (predicted in y) else 0\n",
    "        if total % 1000 == 0:\n",
    "                print(f'Accuracy: {100 * correct / total}% at {total}/{len(train_loder_batch1)}')\n",
    "\n",
    "print(predictions)\n",
    "print(f'Accuracy: {100 * correct / total}%')"
   ]
  }
 ],
 "metadata": {
  "kernelspec": {
   "display_name": ".venv",
   "language": "python",
   "name": "python3"
  },
  "language_info": {
   "codemirror_mode": {
    "name": "ipython",
    "version": 3
   },
   "file_extension": ".py",
   "mimetype": "text/x-python",
   "name": "python",
   "nbconvert_exporter": "python",
   "pygments_lexer": "ipython3",
   "version": "3.12.2"
  }
 },
 "nbformat": 4,
 "nbformat_minor": 2
}
